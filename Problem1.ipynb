{
 "cells": [
  {
   "cell_type": "code",
   "execution_count": 1,
   "metadata": {},
   "outputs": [],
   "source": [
    "import numpy as np\n",
    "import matplotlib.pyplot as plt"
   ]
  },
  {
   "cell_type": "code",
   "execution_count": 2,
   "metadata": {},
   "outputs": [],
   "source": [
    "class Optimizer():\n",
    "    def __init__(self, max_step):\n",
    "        self.param_history = []\n",
    "        self.func_history = []\n",
    "        self.max_step = max_step\n",
    "    \n",
    "    def clear(self):\n",
    "        self.param_history = []\n",
    "        self.func_history = []\n",
    "\n",
    "    def GD(self, function, w, others, r, lr=1):\n",
    "        # GD : gradient descent\n",
    "        # function : Function\n",
    "        # r : stop condition\n",
    "        self.clear()\n",
    "        tmp = np.copy(w)\n",
    "        self.param_history.append(tmp)\n",
    "        self.func_history.append(function.f(tmp, others))\n",
    "        count = 0\n",
    "        while count <= self.max_step:\n",
    "            grads = function.grad(tmp, others)\n",
    "            tmp = tmp-lr*grads\n",
    "            self.param_history.append(tmp)\n",
    "            self.func_history.append(function.f(tmp, others))\n",
    "            if np.linalg.norm(grads, ord=2) < r:\n",
    "                break\n",
    "            count +=1\n",
    "        \n",
    "        return tmp           \n",
    "                \n",
    "\n",
    "    def Newton(self, function, w, others, r):\n",
    "        # function : Function\n",
    "        # r : stop condition\n",
    "        self.clear()\n",
    "        tmp = np.copy(w).flatten()\n",
    "        self.param_history.append(tmp.reshape(w.shape))\n",
    "        self.func_history.append(function.f(tmp.reshape(w.shape), others))\n",
    "        count = 0\n",
    "        while count < self.max_step:\n",
    "            grads = function.grad(tmp.reshape(w.shape), others).flatten()\n",
    "            hessians = function.hessian(tmp.reshape(w.shape), others)\n",
    "            tmp = tmp-np.dot(np.linalg.pinv(hessians), grads)\n",
    "            self.param_history.append(tmp.reshape(w.shape))\n",
    "            self.func_history.append(function.f(tmp.reshape(w.shape), others))\n",
    "            if np.linalg.norm(grads, ord=2) < r:\n",
    "                break\n",
    "            count +=1\n",
    "        return tmp.reshape(w.shape)"
   ]
  },
  {
   "cell_type": "code",
   "execution_count": 3,
   "metadata": {},
   "outputs": [],
   "source": [
    "class Function():\n",
    "    # x : numpy.ndarray\n",
    "    h = 1e-4\n",
    "    def __init__(self):\n",
    "        return\n",
    "\n",
    "    def f(self, w, others):\n",
    "        # It must be overridden\n",
    "        # w : need grad\n",
    "        # others : do not need grad\n",
    "        return w\n",
    "\n",
    "    def grad(self, w, others):\n",
    "        # may be overridden if f' can be solved analytically\n",
    "        tmp = 0\n",
    "        grads = np.zeros_like(w, dtype=float)\n",
    "        for i in range(w.size):\n",
    "            tmp = w[i]\n",
    "            w[i] = tmp - self.h\n",
    "            fx1 = self.f(w, others)\n",
    "            w[i] = tmp + self.h\n",
    "            fx2 = self.f(w, others)\n",
    "            grads[i] = (fx2-fx1)/(2*self.h)\n",
    "            w[i] = tmp\n",
    "\n",
    "        return grads\n",
    "\n",
    "    def hessian(self, w, others):\n",
    "        tmp = 0\n",
    "        hessians = np.zeros([w.size, w.size], dtype=float)\n",
    "        for i in range(w.size):\n",
    "            tmp = w[i]\n",
    "            w[i] = tmp - self.h\n",
    "            grads1 = self.grad(w, others)\n",
    "            w[i] = tmp + self.h\n",
    "            grads2 = self.grad(w, others)\n",
    "            hessians[:, i] = (grads2-grads1)/(2*self.h)\n",
    "            w[i] = tmp\n",
    "\n",
    "        return hessians"
   ]
  },
  {
   "cell_type": "code",
   "execution_count": 4,
   "metadata": {},
   "outputs": [],
   "source": [
    "class P1F(Function):\n",
    "    def __init__(self, lamb=0.01):\n",
    "        self.lamb = lamb\n",
    "    \n",
    "    def f(self, w, others):\n",
    "        # others : [[list of x], [list of y]]\n",
    "        # list of x : np.array(np.ndarray, np.ndarray, ...)\n",
    "        # list of y : [int, int, int, int, ...]\n",
    "        # x is int\n",
    "        res = 0\n",
    "        xs = others[0]\n",
    "        ys = others[1]\n",
    "        for x, y in zip(xs, ys):\n",
    "            res += np.log(1+np.exp(-y*np.dot(w, x)))\n",
    "        \n",
    "        res += self.lamb*np.dot(w, w)\n",
    "        return res\n",
    "\n",
    "    # def grad(self, w, others):\n",
    "    #     xs = others[0]\n",
    "    #     ys = others[1]\n",
    "    #     grads = np.zeros_like(w, dtype=float)\n",
    "    #     for x, y in zip(xs, ys):\n",
    "    #         tmp = (np.exp(-y*np.dot(w, x))*(-y*x))/(1+np.exp(-y*np.dot(w, x)))\n",
    "    #         grads += tmp\n",
    "\n",
    "    #     grads += 2*self.lamb*w\n",
    "\n",
    "    #     return grads"
   ]
  },
  {
   "cell_type": "code",
   "execution_count": 5,
   "metadata": {},
   "outputs": [],
   "source": [
    "def plot_result(w, history, title):\n",
    "    fig,ax = plt.subplots()\n",
    "    ax.plot(list(range(len(history[1]))), history[1])\n",
    "    ax.set_title(title)\n",
    "    plt.show()\n",
    "\n",
    "def plot_performance(ws, histories, titles, opt, sizes):\n",
    "    fig,ax = plt.subplots(1, len(ws), figsize=sizes)\n",
    "    for i in range(len(ws)):\n",
    "        ax[i].plot(list(range(len(histories[i][1]))), histories[i][1]-opt)\n",
    "        ax[i].set_title(titles[i])\n",
    "        ax[i].set_ylim(bottom=0)\n",
    "    plt.show()"
   ]
  },
  {
   "cell_type": "code",
   "execution_count": 6,
   "metadata": {},
   "outputs": [],
   "source": [
    "# making dataset IV\n",
    "np.random.seed(0)\n",
    "n = 200\n",
    "#[[x0], [x1], [x2], ...]\n",
    "x = 3*(np.random.rand(n,4)-0.5)\n",
    "y = (2*x[:, 0] - x[:, 1] + 0.5 + 0.5*np.random.randn(n)) > 0\n",
    "y = 2*y-1"
   ]
  },
  {
   "cell_type": "code",
   "execution_count": 7,
   "metadata": {},
   "outputs": [],
   "source": [
    "np.random.seed(1)\n",
    "w = np.random.rand(4)\n",
    "p1f = P1F()\n",
    "optimizer = Optimizer(1024)"
   ]
  },
  {
   "cell_type": "code",
   "execution_count": 8,
   "metadata": {},
   "outputs": [
    {
     "name": "stdout",
     "output_type": "stream",
     "text": [
      "[ 4.0749956  -1.87087528 -0.1698198  -0.27886255]\n"
     ]
    }
   ],
   "source": [
    "# 1\n",
    "w_opt_g = optimizer.GD(function=p1f, w=w, others=[x, y], r=0.01, lr=1e-3)\n",
    "print(w_opt_g)\n",
    "history_g = [optimizer.param_history, optimizer.func_history]"
   ]
  },
  {
   "cell_type": "code",
   "execution_count": 9,
   "metadata": {},
   "outputs": [
    {
     "name": "stdout",
     "output_type": "stream",
     "text": [
      "[ 4.25888853 -1.97731083 -0.17749302 -0.28179864]\n"
     ]
    }
   ],
   "source": [
    "# 2\n",
    "w_opt_n = optimizer.Newton(function=p1f, w=w, others=[x, y], r=0.01)\n",
    "print(w_opt_n)\n",
    "history_n = [optimizer.param_history, optimizer.func_history]"
   ]
  },
  {
   "cell_type": "code",
   "execution_count": 10,
   "metadata": {},
   "outputs": [
    {
     "data": {
      "image/png": "[encoded data removed]",
      "text/plain": [
       "<Figure size 432x288 with 1 Axes>"
      ]
     },
     "metadata": {
      "needs_background": "light"
     },
     "output_type": "display_data"
    },
    {
     "data": {
      "image/png": "[encoded data removed]",
      "text/plain": [
       "<Figure size 432x288 with 1 Axes>"
      ]
     },
     "metadata": {
      "needs_background": "light"
     },
     "output_type": "display_data"
    }
   ],
   "source": [
    "plot_result(w_opt_g, history_g, 'GD loss history')\n",
    "plot_result(w_opt_n, history_n, 'Newton loss history')"
   ]
  },
  {
   "cell_type": "code",
   "execution_count": 11,
   "metadata": {},
   "outputs": [
    {
     "name": "stdout",
     "output_type": "stream",
     "text": [
      "GD     :  54.736116156134784\n",
      "Newton :  54.68890021609999\n"
     ]
    }
   ],
   "source": [
    "f_g = p1f.f(w_opt_g, [x,y])\n",
    "f_n = p1f.f(w_opt_n, [x,y])\n",
    "print('GD     : ', f_g)\n",
    "print('Newton : ', f_n)"
   ]
  },
  {
   "cell_type": "code",
   "execution_count": 12,
   "metadata": {},
   "outputs": [
    {
     "data": {
      "image/png": "[encoded data removed]",
      "text/plain": [
       "<Figure size 1152x432 with 2 Axes>"
      ]
     },
     "metadata": {
      "needs_background": "light"
     },
     "output_type": "display_data"
    }
   ],
   "source": [
    "#3\n",
    "ws = [w_opt_g, w_opt_n]\n",
    "histories = [history_g, history_n]\n",
    "titles = ['Difference between t-th GD output and optimal', 'Difference between t-th Newton output and optimal']\n",
    "sizes = [16, 6]\n",
    "plot_performance(ws, histories, titles, f_n, sizes)"
   ]
  },
  {
   "cell_type": "code",
   "execution_count": 13,
   "metadata": {},
   "outputs": [],
   "source": [
    "# making dataset V\n",
    "n = 200\n",
    "np.random.seed(3)\n",
    "x = 3 * (np.random.rand(n, 4) - 0.5)\n",
    "W = np.array([[ 2,  -1, 0.5,],\n",
    "              [-3,   2,   1,],\n",
    "              [ 1,   2,   3]])\n",
    "y = np.argmax(np.dot(np.hstack([x[:,:2], np.ones((n, 1))]), W.T)\n",
    "                        + 0.5 * np.random.randn(n, 3), axis=1)"
   ]
  },
  {
   "cell_type": "code",
   "execution_count": 14,
   "metadata": {},
   "outputs": [],
   "source": [
    "def softmax(a):\n",
    "    # a : numpy.ndarray\n",
    "    # m : float\n",
    "    m = a.max()\n",
    "    return np.exp(a-m)/np.exp(a-m).sum()\n",
    "\n",
    "def to_one_hot(arrays, num_class):\n",
    "    res = np.zeros([len(arrays), num_class])\n",
    "    for i in range(len(arrays)):\n",
    "        res[i][arrays[i]] = 1\n",
    "    \n",
    "    return res\n",
    "\n",
    "class P1FMulti(Function):\n",
    "    eps = 1e-4\n",
    "    def __init__(self):\n",
    "        return\n",
    "    \n",
    "    def f(self, w, others):\n",
    "        # average softmax cross entropy\n",
    "        # w : [[param0], [param1], ..., [paramn]]\n",
    "        # ys.size : dataset size\n",
    "        xs = others[0]\n",
    "        ys = others[1]\n",
    "        res = 0\n",
    "        for i in range(ys.size):\n",
    "            loss = softmax(np.dot(w, xs[i]))\n",
    "            res -= np.log(loss[y[i]]+self.eps)\n",
    "        \n",
    "        res /= ys.size\n",
    "        return res                \n",
    "\n",
    "    def grad_oneparam(self, w, others, i):\n",
    "        tmp = 0\n",
    "        grads = np.zeros_like(w[i])\n",
    "        for j in range(w[i].size):\n",
    "            tmp = w[i][j]\n",
    "            w[i][j] = tmp - self.h\n",
    "            fx1 = self.f(w, others)\n",
    "            w[i][j] = tmp + self.h\n",
    "            fx2 = self.f(w, others)\n",
    "            grads[j] = (fx2-fx1)/(2*self.h)\n",
    "            w[i][j] = tmp\n",
    "        return grads\n",
    "\n",
    "    def grad(self, w, others):\n",
    "        tmp = 0\n",
    "        grads = np.zeros_like(w, dtype=float)\n",
    "        for i in range(w.shape[0]):\n",
    "            grads[i] = self.grad_oneparam(w, others, i)\n",
    "        return grads\n",
    "\n",
    "    def hessian(self, w, others):\n",
    "        # res\n",
    "        M = w.shape[1]\n",
    "        K = w.shape[0]\n",
    "        hessians = np.zeros([M*K, M*K])\n",
    "        for i in range(K):\n",
    "            for j in range(K):\n",
    "                tmp = 0\n",
    "                Hij = np.zeros([M, M])\n",
    "                for k in range(w[j].size):\n",
    "                    tmp = w[j][k]\n",
    "                    w[j][k] = tmp - self.h\n",
    "                    grads1 = self.grad_oneparam(w, others, i)\n",
    "                    w[j][k] = tmp + self.h\n",
    "                    grads2 = self.grad_oneparam(w, others, i)\n",
    "                    Hij[:, k] = (grads2-grads1)/(2*self.h)\n",
    "                    w[j][k] = tmp\n",
    "                hessians[i*M:(i+1)*M, j*M:(j+1)*M] = Hij\n",
    "        return hessians"
   ]
  },
  {
   "cell_type": "code",
   "execution_count": 15,
   "metadata": {},
   "outputs": [],
   "source": [
    "p1fm = P1FMulti()"
   ]
  },
  {
   "cell_type": "code",
   "execution_count": 16,
   "metadata": {},
   "outputs": [],
   "source": [
    "K = 3\n",
    "M = 4\n",
    "np.random.seed(3)\n",
    "w = np.random.rand(K,M)"
   ]
  },
  {
   "cell_type": "code",
   "execution_count": 17,
   "metadata": {},
   "outputs": [
    {
     "name": "stdout",
     "output_type": "stream",
     "text": [
      "[[ 0.94827583 -0.12580955  0.15227883  0.47075078]\n",
      " [-0.87630274  0.82686055  0.11551731  0.459198  ]\n",
      " [ 1.42323897  1.34419976  0.17857012  0.24495492]]\n"
     ]
    }
   ],
   "source": [
    "w_opt_g = optimizer.GD(function=p1fm, w=w, others=[x, y], r=0.01, lr=1e-2)\n",
    "print(w_opt_g)\n",
    "history_g = [optimizer.param_history, optimizer.func_history]"
   ]
  },
  {
   "cell_type": "code",
   "execution_count": 18,
   "metadata": {},
   "outputs": [
    {
     "name": "stdout",
     "output_type": "stream",
     "text": [
      "[[ 1.46789522 -3.15688653  0.03558815 -1.17654455]\n",
      " [-2.09020624 -1.71866837  0.16869407 -0.91824671]\n",
      " [ 2.80265389 -0.25971671  0.37152337 -1.43778665]]\n"
     ]
    }
   ],
   "source": [
    "w_opt_n = optimizer.Newton(function=p1fm, w=w, others=[x, y], r=0.01)\n",
    "print(w_opt_n)\n",
    "history_n = [optimizer.param_history, optimizer.func_history]"
   ]
  },
  {
   "cell_type": "code",
   "execution_count": 19,
   "metadata": {},
   "outputs": [
    {
     "name": "stdout",
     "output_type": "stream",
     "text": [
      "GD     :  0.5600386798331689\n",
      "Newton :  0.4703922894714026\n"
     ]
    }
   ],
   "source": [
    "f_g = p1fm.f(w_opt_g, [x,y])\n",
    "f_n = p1fm.f(w_opt_n, [x,y])\n",
    "print('GD     : ', f_g)\n",
    "print('Newton : ', f_n)"
   ]
  },
  {
   "cell_type": "code",
   "execution_count": 21,
   "metadata": {},
   "outputs": [
    {
     "data": {
      "image/png": "[encoded data removed]",
      "text/plain": [
       "<Figure size 1152x432 with 2 Axes>"
      ]
     },
     "metadata": {
      "needs_background": "light"
     },
     "output_type": "display_data"
    }
   ],
   "source": [
    "ws = [w_opt_g, w_opt_n]\n",
    "histories = [history_g, history_n]\n",
    "titles = ['Difference between t-th GD output and optimal', 'Difference between t-th Newton output and optimal']\n",
    "sizes = [16, 6]\n",
    "plot_performance(ws, histories, titles, f_n, sizes)"
   ]
  }
 ],
 "metadata": {
  "kernelspec": {
   "display_name": "Python 3.10.4 ('mac_env': venv)",
   "language": "python",
   "name": "python3"
  },
  "language_info": {
   "codemirror_mode": {
    "name": "ipython",
    "version": 3
   },
   "file_extension": ".py",
   "mimetype": "text/x-python",
   "name": "python",
   "nbconvert_exporter": "python",
   "pygments_lexer": "ipython3",
   "version": "3.10.4"
  },
  "orig_nbformat": 4,
  "vscode": {
   "interpreter": {
    "hash": "f13230be8faa21635bb4d2cfe7339b85c273df39b36d0b1608c114dcaee91124"
   }
  }
 },
 "nbformat": 4,
 "nbformat_minor": 2
}
