{
 "cells": [
  {
   "cell_type": "code",
   "execution_count": 1,
   "metadata": {},
   "outputs": [],
   "source": [
    "import numpy as np\n",
    "import matplotlib.pyplot as plt"
   ]
  },
  {
   "cell_type": "code",
   "execution_count": 2,
   "metadata": {},
   "outputs": [],
   "source": [
    "class Optimizer():\n",
    "    def __init__(self, max_step):\n",
    "        self.param_history = []\n",
    "        self.func_history = []\n",
    "        self.max_step = max_step\n",
    "    \n",
    "    def clear(self):\n",
    "        self.param_history = []\n",
    "        self.func_history = []\n",
    "\n",
    "    def GD(self, function, w, others, r, lr=1):\n",
    "        # GD : gradient descent\n",
    "        # function : Function\n",
    "        # r : stop condition\n",
    "        self.clear()\n",
    "        tmp = np.copy(w)\n",
    "        self.param_history.append(tmp)\n",
    "        self.func_history.append(function.f(tmp, others))\n",
    "        count = 0\n",
    "        while count < self.max_step:\n",
    "            grads = function.grad(tmp, others)\n",
    "            tmp = tmp-lr*grads\n",
    "            self.param_history.append(tmp)\n",
    "            self.func_history.append(function.f(tmp, others))\n",
    "            if np.linalg.norm(grads, ord=2) < r:\n",
    "                break\n",
    "            count +=1\n",
    "        \n",
    "        return tmp\n",
    "                \n",
    "\n",
    "    def Newton(self, function, w, others, r):\n",
    "        # function : Function\n",
    "        # r : stop condition\n",
    "        self.clear()\n",
    "        tmp = np.copy(w).flatten()\n",
    "        self.param_history.append(tmp.reshape(w.shape))\n",
    "        self.func_history.append(function.f(tmp.reshape(w.shape), others))\n",
    "        count = 0\n",
    "        while count < self.max_step:\n",
    "            grads = function.grad(tmp.reshape(w.shape), others).flatten()\n",
    "            hessians = function.hessian(tmp.reshape(w.shape), others)\n",
    "            tmp = tmp-np.dot(np.linalg.pinv(hessians), grads)\n",
    "            self.param_history.append(tmp.reshape(w.shape))\n",
    "            self.func_history.append(function.f(tmp.reshape(w.shape), others))\n",
    "            if np.linalg.norm(grads, ord=2) < r:\n",
    "                break\n",
    "            count +=1\n",
    "        return tmp.reshape(w.shape)"
   ]
  },
  {
   "cell_type": "code",
   "execution_count": 3,
   "metadata": {},
   "outputs": [],
   "source": [
    "class Function():\n",
    "    # x : numpy.ndarray\n",
    "    h = 1e-4\n",
    "    def __init__(self):\n",
    "        return\n",
    "\n",
    "    def f(self, w, others):\n",
    "        # It must be overridden\n",
    "        # w : need grad\n",
    "        # others : do not need grad\n",
    "        return w\n",
    "\n",
    "    def grad(self, w, others):\n",
    "        # may be overridden if f' can be solved analytically\n",
    "        tmp = 0\n",
    "        grads = np.zeros_like(w, dtype=float)\n",
    "        for i in range(w.size):\n",
    "            tmp = w[i]\n",
    "            w[i] = tmp - self.h\n",
    "            fx1 = self.f(w, others)\n",
    "            w[i] = tmp + self.h\n",
    "            fx2 = self.f(w, others)\n",
    "            grads[i] = (fx2-fx1)/(2*self.h)\n",
    "            w[i] = tmp\n",
    "\n",
    "        return grads\n",
    "\n",
    "    def hessian(self, w, others):\n",
    "        tmp = 0\n",
    "        hessians = np.zeros([w.size, w.size], dtype=float)\n",
    "        for i in range(w.size):\n",
    "            tmp = w[i]\n",
    "            w[i] = tmp - self.h\n",
    "            grads1 = self.grad(w, others)\n",
    "            w[i] = tmp + self.h\n",
    "            grads2 = self.grad(w, others)\n",
    "            hessians[:, i] = (grads2-grads1)/(2*self.h)\n",
    "            w[i] = tmp\n",
    "\n",
    "        return hessians"
   ]
  },
  {
   "cell_type": "code",
   "execution_count": 4,
   "metadata": {},
   "outputs": [],
   "source": [
    "class P1F(Function):\n",
    "    def __init__(self, lamb=0.01):\n",
    "        self.lamb = lamb\n",
    "    \n",
    "    def f(self, w, others):\n",
    "        # others : [[list of x], [list of y]]\n",
    "        # list of x : np.array(np.ndarray, np.ndarray, ...)\n",
    "        # list of y : [int, int, int, int, ...]\n",
    "        # x is int\n",
    "        res = 0\n",
    "        xs = others[0]\n",
    "        ys = others[1]\n",
    "        for x, y in zip(xs, ys):\n",
    "            res += np.log(1+np.exp(-y*np.dot(w, x)))\n",
    "        \n",
    "        res += self.lamb*np.dot(w, w)\n",
    "        return res\n",
    "\n",
    "    # def grad(self, w, others):\n",
    "    #     xs = others[0]\n",
    "    #     ys = others[1]\n",
    "    #     grads = np.zeros_like(w, dtype=float)\n",
    "    #     for x, y in zip(xs, ys):\n",
    "    #         tmp = (np.exp(-y*np.dot(w, x))*(-y*x))/(1+np.exp(-y*np.dot(w, x)))\n",
    "    #         grads += tmp\n",
    "\n",
    "    #     grads += 2*self.lamb*w\n",
    "\n",
    "    #     return grads"
   ]
  },
  {
   "cell_type": "code",
   "execution_count": 31,
   "metadata": {},
   "outputs": [],
   "source": [
    "def plot_result(w, history, title):\n",
    "    fig,ax = plt.subplots()\n",
    "    ax.plot(list(range(len(history[1]))), history[1])\n",
    "    ax.set_title(title)\n",
    "    plt.show()\n",
    "\n",
    "def plot_performance(ws, histories, title, opt, sizes, labels):\n",
    "    fig,ax = plt.subplots(figsize=sizes)\n",
    "    ax.plot(list(range(len(histories[0][1]))), histories[0][1]-opt, label=labels[0])\n",
    "    ax.plot(list(range(len(histories[1][1]))), histories[1][1]-opt, label=labels[1])\n",
    "    ax.set_title(title)\n",
    "    #ax[i].set_ylim(bottom=0)\n",
    "    ax.set_yscale('log')\n",
    "    ax.legend()\n",
    "    plt.show()\n",
    "\n",
    "def binary_acc(xs, ys, w):\n",
    "    acc_count = 0\n",
    "    for x, y in zip(xs, ys):\n",
    "        if np.dot(w, x) > 0:\n",
    "            pred = 1\n",
    "        else:\n",
    "            pred = -1\n",
    "        \n",
    "        if pred==y:\n",
    "            acc_count +=1\n",
    "\n",
    "    return acc_count / len(ys)\n",
    "\n",
    "def multi_acc(xs, ys, w):\n",
    "    acc_count = 0\n",
    "    for x, y in zip(xs, ys):\n",
    "        pred = np.dot(w, x).argmax()\n",
    "        if pred == y:\n",
    "            acc_count +=1\n",
    "\n",
    "    return acc_count / len(ys)\n",
    "\n",
    "    "
   ]
  },
  {
   "cell_type": "code",
   "execution_count": 6,
   "metadata": {},
   "outputs": [],
   "source": [
    "# making dataset IV\n",
    "np.random.seed(0)\n",
    "n = 200\n",
    "#[[x0], [x1], [x2], ...]\n",
    "x = 3*(np.random.rand(n,4)-0.5)\n",
    "y = (2*x[:, 0] - x[:, 1] + 0.5 + 0.5*np.random.randn(n)) > 0\n",
    "y = 2*y-1"
   ]
  },
  {
   "cell_type": "code",
   "execution_count": 7,
   "metadata": {},
   "outputs": [],
   "source": [
    "np.random.seed(1)\n",
    "w = np.random.rand(4)\n",
    "p1f = P1F()\n",
    "optimizer = Optimizer(1024)"
   ]
  },
  {
   "cell_type": "code",
   "execution_count": 8,
   "metadata": {},
   "outputs": [
    {
     "name": "stdout",
     "output_type": "stream",
     "text": [
      "[ 4.0746031  -1.87064813 -0.16980306 -0.27885571]\n"
     ]
    }
   ],
   "source": [
    "# 1\n",
    "w_opt_g = optimizer.GD(function=p1f, w=w, others=[x, y], r=0.01, lr=1e-3)\n",
    "print(w_opt_g)\n",
    "history_g = [optimizer.param_history, optimizer.func_history]"
   ]
  },
  {
   "cell_type": "code",
   "execution_count": 10,
   "metadata": {},
   "outputs": [
    {
     "name": "stdout",
     "output_type": "stream",
     "text": [
      "[ 4.25888853 -1.97731083 -0.17749302 -0.28179864]\n"
     ]
    }
   ],
   "source": [
    "# 2\n",
    "w_opt_n = optimizer.Newton(function=p1f, w=w, others=[x, y], r=0.01)\n",
    "print(w_opt_n)\n",
    "history_n = [optimizer.param_history, optimizer.func_history]"
   ]
  },
  {
   "cell_type": "code",
   "execution_count": 11,
   "metadata": {},
   "outputs": [
    {
     "name": "stdout",
     "output_type": "stream",
     "text": [
      "accuracy\n",
      "before training :  0.515\n",
      "GD :  0.855\n",
      "Newton :  0.855\n"
     ]
    }
   ],
   "source": [
    "print('accuracy')\n",
    "print('before training : ', binary_acc(x, y, w))\n",
    "print('GD : ', binary_acc(x, y, w_opt_g))\n",
    "print('Newton : ', binary_acc(x, y, w_opt_n))"
   ]
  },
  {
   "cell_type": "code",
   "execution_count": 12,
   "metadata": {},
   "outputs": [
    {
     "data": {
      "image/png": "[encoded data removed]",
      "text/plain": [
       "<Figure size 432x288 with 1 Axes>"
      ]
     },
     "metadata": {
      "needs_background": "light"
     },
     "output_type": "display_data"
    },
    {
     "data": {
      "image/png": "[encoded data removed]",
      "text/plain": [
       "<Figure size 432x288 with 1 Axes>"
      ]
     },
     "metadata": {
      "needs_background": "light"
     },
     "output_type": "display_data"
    }
   ],
   "source": [
    "plot_result(w_opt_g, history_g, 'GD loss history')\n",
    "plot_result(w_opt_n, history_n, 'Newton loss history')"
   ]
  },
  {
   "cell_type": "code",
   "execution_count": 13,
   "metadata": {},
   "outputs": [
    {
     "name": "stdout",
     "output_type": "stream",
     "text": [
      "GD     :  54.73632190012506\n",
      "Newton :  54.68890021609997\n"
     ]
    }
   ],
   "source": [
    "f_g = p1f.f(w_opt_g, [x,y])\n",
    "f_n = p1f.f(w_opt_n, [x,y])\n",
    "print('GD     : ', f_g)\n",
    "print('Newton : ', f_n)"
   ]
  },
  {
   "cell_type": "code",
   "execution_count": 36,
   "metadata": {},
   "outputs": [
    {
     "data": {
      "image/png": "[encoded data removed]",
      "text/plain": [
       "<Figure size 720x720 with 1 Axes>"
      ]
     },
     "metadata": {
      "needs_background": "light"
     },
     "output_type": "display_data"
    }
   ],
   "source": [
    "#3\n",
    "ws = [w_opt_g, w_opt_n]\n",
    "histories = [history_g, history_n]\n",
    "title = 'Difference between t-th output and optimal'\n",
    "sizes = [10, 10]\n",
    "plot_performance(ws, histories, title, f_n, sizes, ['GD', 'Newton'])"
   ]
  },
  {
   "cell_type": "code",
   "execution_count": 15,
   "metadata": {},
   "outputs": [],
   "source": [
    "# making dataset V\n",
    "n = 200\n",
    "np.random.seed(3)\n",
    "x = 3 * (np.random.rand(n, 4) - 0.5)\n",
    "W = np.array([[ 2,  -1, 0.5,],\n",
    "              [-3,   2,   1,],\n",
    "              [ 1,   2,   3]])\n",
    "y = np.argmax(np.dot(np.hstack([x[:,:2], np.ones((n, 1))]), W.T)\n",
    "                        + 0.5 * np.random.randn(n, 3), axis=1)"
   ]
  },
  {
   "cell_type": "code",
   "execution_count": 16,
   "metadata": {},
   "outputs": [],
   "source": [
    "def softmax(a):\n",
    "    # a : numpy.ndarray\n",
    "    # m : float\n",
    "    m = a.max()\n",
    "    return np.exp(a-m)/np.exp(a-m).sum()\n",
    "\n",
    "def to_one_hot(arrays, num_class):\n",
    "    res = np.zeros([len(arrays), num_class])\n",
    "    for i in range(len(arrays)):\n",
    "        res[i][arrays[i]] = 1\n",
    "    \n",
    "    return res\n",
    "\n",
    "class P1FMulti(Function):\n",
    "    eps = 1e-4\n",
    "    def __init__(self):\n",
    "        return\n",
    "    \n",
    "    def f(self, w, others):\n",
    "        # average softmax cross entropy\n",
    "        # w : [[param0], [param1], ..., [paramn]]\n",
    "        # ys.size : dataset size\n",
    "        xs = others[0]\n",
    "        ys = others[1]\n",
    "        res = 0\n",
    "        for i in range(ys.size):\n",
    "            loss = softmax(np.dot(w, xs[i]))\n",
    "            res -= np.log(loss[y[i]]+self.eps)\n",
    "        \n",
    "        res /= ys.size\n",
    "        return res                \n",
    "\n",
    "    def grad_oneparam(self, w, others, i):\n",
    "        tmp = 0\n",
    "        grads = np.zeros_like(w[i])\n",
    "        for j in range(w[i].size):\n",
    "            tmp = w[i][j]\n",
    "            w[i][j] = tmp - self.h\n",
    "            fx1 = self.f(w, others)\n",
    "            w[i][j] = tmp + self.h\n",
    "            fx2 = self.f(w, others)\n",
    "            grads[j] = (fx2-fx1)/(2*self.h)\n",
    "            w[i][j] = tmp\n",
    "        return grads\n",
    "\n",
    "    def grad(self, w, others):\n",
    "        tmp = 0\n",
    "        grads = np.zeros_like(w, dtype=float)\n",
    "        for i in range(w.shape[0]):\n",
    "            grads[i] = self.grad_oneparam(w, others, i)\n",
    "        return grads\n",
    "\n",
    "    def hessian(self, w, others):\n",
    "        # res\n",
    "        M = w.shape[1]\n",
    "        K = w.shape[0]\n",
    "        hessians = np.zeros([M*K, M*K])\n",
    "        for i in range(K):\n",
    "            for j in range(K):\n",
    "                tmp = 0\n",
    "                Hij = np.zeros([M, M])\n",
    "                for k in range(w[j].size):\n",
    "                    tmp = w[j][k]\n",
    "                    w[j][k] = tmp - self.h\n",
    "                    grads1 = self.grad_oneparam(w, others, i)\n",
    "                    w[j][k] = tmp + self.h\n",
    "                    grads2 = self.grad_oneparam(w, others, i)\n",
    "                    Hij[:, k] = (grads2-grads1)/(2*self.h)\n",
    "                    w[j][k] = tmp\n",
    "                hessians[i*M:(i+1)*M, j*M:(j+1)*M] = Hij\n",
    "        return hessians"
   ]
  },
  {
   "cell_type": "code",
   "execution_count": 17,
   "metadata": {},
   "outputs": [],
   "source": [
    "p1fm = P1FMulti()"
   ]
  },
  {
   "cell_type": "code",
   "execution_count": 18,
   "metadata": {},
   "outputs": [],
   "source": [
    "K = 3\n",
    "M = 4\n",
    "np.random.seed(3)\n",
    "wm = np.random.rand(K,M)"
   ]
  },
  {
   "cell_type": "code",
   "execution_count": 19,
   "metadata": {},
   "outputs": [
    {
     "name": "stdout",
     "output_type": "stream",
     "text": [
      "[[ 0.94811631 -0.12546635  0.15235385  0.47076431]\n",
      " [-0.87557532  0.82692313  0.1155093   0.45911034]\n",
      " [ 1.42267107  1.34379397  0.17850311  0.24502905]]\n"
     ]
    }
   ],
   "source": [
    "w_opt_mg = optimizer.GD(function=p1fm, w=wm, others=[x, y], r=0.01, lr=1e-2)\n",
    "print(w_opt_mg)\n",
    "history_mg = [optimizer.param_history, optimizer.func_history]"
   ]
  },
  {
   "cell_type": "code",
   "execution_count": 20,
   "metadata": {},
   "outputs": [
    {
     "name": "stdout",
     "output_type": "stream",
     "text": [
      "[[ 1.32641249 -5.87727532  1.69481808 -3.28953626]\n",
      " [-2.23168893 -4.43905727  1.82792393 -3.03123833]\n",
      " [ 2.66117111 -2.98010563  2.03075325 -3.55077835]]\n"
     ]
    }
   ],
   "source": [
    "w_opt_mn = optimizer.Newton(function=p1fm, w=wm, others=[x, y], r=0.01)\n",
    "print(w_opt_mn)\n",
    "history_mn = [optimizer.param_history, optimizer.func_history]"
   ]
  },
  {
   "cell_type": "code",
   "execution_count": 21,
   "metadata": {},
   "outputs": [
    {
     "data": {
      "image/png": "[encoded data removed]",
      "text/plain": [
       "<Figure size 432x288 with 1 Axes>"
      ]
     },
     "metadata": {
      "needs_background": "light"
     },
     "output_type": "display_data"
    },
    {
     "data": {
      "image/png": "[encoded data removed]",
      "text/plain": [
       "<Figure size 432x288 with 1 Axes>"
      ]
     },
     "metadata": {
      "needs_background": "light"
     },
     "output_type": "display_data"
    }
   ],
   "source": [
    "plot_result(w_opt_mg, history_mg, 'GD loss history')\n",
    "plot_result(w_opt_mn, history_mn, 'Newton loss history')"
   ]
  },
  {
   "cell_type": "code",
   "execution_count": 22,
   "metadata": {},
   "outputs": [
    {
     "name": "stdout",
     "output_type": "stream",
     "text": [
      "accuracy\n",
      "before training :  0.125\n",
      "GD :  0.81\n",
      "Newton :  0.83\n"
     ]
    }
   ],
   "source": [
    "print('accuracy')\n",
    "print('before training : ', multi_acc(x, y, wm))\n",
    "print('GD : ', multi_acc(x, y, w_opt_mg))\n",
    "print('Newton : ', multi_acc(x, y, w_opt_mn))"
   ]
  },
  {
   "cell_type": "code",
   "execution_count": 23,
   "metadata": {},
   "outputs": [
    {
     "name": "stdout",
     "output_type": "stream",
     "text": [
      "GD     :  0.5601573208214744\n",
      "Newton :  0.4703922894881937\n"
     ]
    }
   ],
   "source": [
    "f_mg = p1fm.f(w_opt_mg, [x,y])\n",
    "f_mn = p1fm.f(w_opt_mn, [x,y])\n",
    "print('GD     : ', f_mg)\n",
    "print('Newton : ', f_mn)"
   ]
  },
  {
   "cell_type": "code",
   "execution_count": 35,
   "metadata": {},
   "outputs": [
    {
     "data": {
      "image/png": "[encoded data removed]",
      "text/plain": [
       "<Figure size 720x720 with 1 Axes>"
      ]
     },
     "metadata": {
      "needs_background": "light"
     },
     "output_type": "display_data"
    }
   ],
   "source": [
    "wms = [w_opt_mg, w_opt_mn]\n",
    "histories = [history_mg, history_mn]\n",
    "titles = 'Difference between t-th output and optimal'\n",
    "sizes = [10, 10]\n",
    "plot_performance(wms, histories, title, f_mn, sizes, ['GD', 'Newton'])"
   ]
  },
  {
   "cell_type": "code",
   "execution_count": null,
   "metadata": {},
   "outputs": [],
   "source": []
  }
 ],
 "metadata": {
  "kernelspec": {
   "display_name": "Python 3.10.5 ('env': venv)",
   "language": "python",
   "name": "python3"
  },
  "language_info": {
   "codemirror_mode": {
    "name": "ipython",
    "version": 3
   },
   "file_extension": ".py",
   "mimetype": "text/x-python",
   "name": "python",
   "nbconvert_exporter": "python",
   "pygments_lexer": "ipython3",
   "version": "3.10.5"
  },
  "orig_nbformat": 4,
  "vscode": {
   "interpreter": {
    "hash": "09f6ee65820b5b0c7f624b54d710746cb7c18151992dbd5256271e62ea3c5a23"
   }
  }
 },
 "nbformat": 4,
 "nbformat_minor": 2
}
