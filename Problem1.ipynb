{
 "cells": [
  {
   "cell_type": "code",
   "execution_count": 1,
   "metadata": {},
   "outputs": [
    {
     "ename": "ModuleNotFoundError",
     "evalue": "No module named 'numpy'",
     "output_type": "error",
     "traceback": [
      "\u001b[0;31m---------------------------------------------------------------------------\u001b[0m",
      "\u001b[0;31mModuleNotFoundError\u001b[0m                       Traceback (most recent call last)",
      "\u001b[1;32m/Users/takesea/Library/CloudStorage/OneDrive-m.titech.ac.jp/学校関連(2021年度まで)/4年2Q/先端機械学習/workspace/Problem1.ipynb Cell 1'\u001b[0m in \u001b[0;36m<cell line: 1>\u001b[0;34m()\u001b[0m\n\u001b[0;32m----> <a href='vscode-notebook-cell:/Users/takesea/Library/CloudStorage/OneDrive-m.titech.ac.jp/%E5%AD%A6%E6%A0%A1%E9%96%A2%E9%80%A3%282021%E5%B9%B4%E5%BA%A6%E3%81%BE%E3%81%A6%E3%82%99%29/4%E5%B9%B42Q/%E5%85%88%E7%AB%AF%E6%A9%9F%E6%A2%B0%E5%AD%A6%E7%BF%92/workspace/Problem1.ipynb#ch0000000?line=0'>1</a>\u001b[0m \u001b[39mimport\u001b[39;00m \u001b[39mnumpy\u001b[39;00m \u001b[39mas\u001b[39;00m \u001b[39mnp\u001b[39;00m\n\u001b[1;32m      <a href='vscode-notebook-cell:/Users/takesea/Library/CloudStorage/OneDrive-m.titech.ac.jp/%E5%AD%A6%E6%A0%A1%E9%96%A2%E9%80%A3%282021%E5%B9%B4%E5%BA%A6%E3%81%BE%E3%81%A6%E3%82%99%29/4%E5%B9%B42Q/%E5%85%88%E7%AB%AF%E6%A9%9F%E6%A2%B0%E5%AD%A6%E7%BF%92/workspace/Problem1.ipynb#ch0000000?line=1'>2</a>\u001b[0m \u001b[39mimport\u001b[39;00m \u001b[39mmatplotlib\u001b[39;00m\u001b[39m.\u001b[39;00m\u001b[39mpyplot\u001b[39;00m \u001b[39mas\u001b[39;00m \u001b[39mplt\u001b[39;00m\n",
      "\u001b[0;31mModuleNotFoundError\u001b[0m: No module named 'numpy'"
     ]
    }
   ],
   "source": [
    "import numpy as np\n",
    "import matplotlib.pyplot as plt"
   ]
  },
  {
   "cell_type": "code",
   "execution_count": 2,
   "metadata": {},
   "outputs": [],
   "source": [
    "class Optimizer():\n",
    "    def __init__(self, max_step):\n",
    "        self.param_history = []\n",
    "        self.func_history = []\n",
    "        self.max_step = max_step\n",
    "    \n",
    "    def clear(self):\n",
    "        self.param_history = []\n",
    "        self.func_history = []\n",
    "\n",
    "    def GD(self, function, w, others, r, lr=1):\n",
    "        # GD : gradient descent\n",
    "        # function : Function\n",
    "        # r : stop condition\n",
    "        self.clear()\n",
    "        tmp = np.copy(w)\n",
    "        self.param_history.append(tmp)\n",
    "        self.func_history.append(function.f(tmp, others))\n",
    "        count = 0\n",
    "        while count <= self.max_step:\n",
    "            grads = function.grad(tmp, others)\n",
    "            tmp = tmp-lr*grads\n",
    "            self.param_history.append(tmp)\n",
    "            self.func_history.append(function.f(tmp, others))\n",
    "            if np.linalg.norm(grads, ord=2) < r:\n",
    "                break\n",
    "            count +=1\n",
    "        \n",
    "        return tmp\n",
    "\n",
    "    def Newton(self, function, w, others, r):\n",
    "        # function : Function\n",
    "        # r : stop condition\n",
    "        self.clear()\n",
    "        tmp = np.copy(w)\n",
    "        self.param_history.append(tmp)\n",
    "        self.func_history.append(function.f(tmp, others))\n",
    "        count = 0\n",
    "        while count < self.max_step:\n",
    "            grads = function.grad(tmp, others)\n",
    "            hessians = function.hessian(tmp, others)\n",
    "            tmp = tmp-np.dot(np.linalg.inv(hessians), grads)\n",
    "            self.param_history.append(tmp)\n",
    "            self.func_history.append(function.f(tmp, others))\n",
    "            if np.linalg.norm(grads, ord=2) < r:\n",
    "                break\n",
    "            count +=1\n",
    "        return tmp"
   ]
  },
  {
   "cell_type": "code",
   "execution_count": 3,
   "metadata": {},
   "outputs": [],
   "source": [
    "class Function():\n",
    "    # x : numpy.ndarray\n",
    "    h = 1e-4\n",
    "    def __init__(self):\n",
    "        return\n",
    "\n",
    "    def f(self, w, others):\n",
    "        # It must be overridden\n",
    "        # w : need grad\n",
    "        # others : do not need grad\n",
    "        return w\n",
    "\n",
    "    def grad(self, w, others):\n",
    "        # may be overridden if f' can be solved analytically\n",
    "        tmp = 0\n",
    "        grads = np.zeros_like(w, dtype=float)\n",
    "        for i in range(w.size):\n",
    "            tmp = w[i]\n",
    "            w[i] = tmp - self.h\n",
    "            fx1 = self.f(w, others)\n",
    "            w[i] = tmp + self.h\n",
    "            fx2 = self.f(w, others)\n",
    "            grads[i] = (fx2-fx1)/(2*self.h)\n",
    "            w[i] = tmp\n",
    "\n",
    "        return grads\n",
    "\n",
    "    def hessian(self, w, others):\n",
    "        tmp = 0\n",
    "        hessians = np.zeros([w.size, w.size], dtype=float)\n",
    "        for i in range(w.size):\n",
    "            tmp = w[i]\n",
    "            w[i] = tmp - self.h\n",
    "            grads1 = self.grad(w, others)\n",
    "            w[i] = tmp + self.h\n",
    "            grads2 = self.grad(w, others)\n",
    "            hessians[:, i] = (grads2-grads1)/(2*self.h)\n",
    "            w[i] = tmp\n",
    "\n",
    "        return hessians"
   ]
  },
  {
   "cell_type": "code",
   "execution_count": 4,
   "metadata": {},
   "outputs": [],
   "source": [
    "class P1F(Function):\n",
    "    def __init__(self, lamb=0.01):\n",
    "        self.lamb = lamb\n",
    "    \n",
    "    def f(self, w, others):\n",
    "        # others : [[list of x], [list of y]]\n",
    "        # list of x : np.array(np.ndarray, np.ndarray, ...)\n",
    "        # list of y : [int, int, int, int, ...]\n",
    "        # x is int\n",
    "        res = 0\n",
    "        xs = others[0]\n",
    "        ys = others[1]\n",
    "        for x, y in zip(xs, ys):\n",
    "            res += np.log(1+np.exp(-y*np.dot(w, x)))\n",
    "        \n",
    "        res += self.lamb*np.dot(w, w)\n",
    "        return res\n",
    "\n",
    "    # def grad(self, w, others):\n",
    "    #     xs = others[0]\n",
    "    #     ys = others[1]\n",
    "    #     grads = np.zeros_like(w, dtype=float)\n",
    "    #     for x, y in zip(xs, ys):\n",
    "    #         tmp = (np.exp(-y*np.dot(w, x))*(-y*x))/(1+np.exp(-y*np.dot(w, x)))\n",
    "    #         grads += tmp\n",
    "\n",
    "    #     grads += 2*self.lamb*w\n",
    "\n",
    "    #     return grads"
   ]
  },
  {
   "cell_type": "code",
   "execution_count": 21,
   "metadata": {},
   "outputs": [],
   "source": [
    "def plot_result(w, history, title):\n",
    "    fig,ax = plt.subplots()\n",
    "    ax.plot(list(range(len(history[1]))), history[1])\n",
    "    ax.set_title(title)\n",
    "    plt.show()\n",
    "\n",
    "def plot_performance(ws, histories, titles, opt, sizes):\n",
    "    fig,ax = plt.subplots(1, len(ws), figsize=sizes)\n",
    "    for i in range(len(ws)):\n",
    "        ax[i].plot(list(range(len(histories[i][1]))), histories[i][1]-opt)\n",
    "        ax[i].set_title(titles[i])\n",
    "        ax[i].set_ylim(bottom=0)\n",
    "    plt.show()"
   ]
  },
  {
   "cell_type": "code",
   "execution_count": 6,
   "metadata": {},
   "outputs": [],
   "source": [
    "# making dataset IV\n",
    "np.random.seed(0)\n",
    "n = 200\n",
    "#[[x0], [x1], [x2], ...]\n",
    "x = 3*(np.random.rand(n,4)-0.5)\n",
    "y = (2*x[:, 0] - x[:, 1] + 0.5 + 0.5*np.random.randn(n)) > 0\n",
    "y = 2*y-1"
   ]
  },
  {
   "cell_type": "code",
   "execution_count": 7,
   "metadata": {},
   "outputs": [],
   "source": [
    "np.random.seed(1)\n",
    "w = np.random.rand(4)\n",
    "p1f = P1F()\n",
    "optimizer = Optimizer(1024)"
   ]
  },
  {
   "cell_type": "code",
   "execution_count": 8,
   "metadata": {},
   "outputs": [
    {
     "name": "stdout",
     "output_type": "stream",
     "text": [
      "[ 4.0749956  -1.87087528 -0.1698198  -0.27886255]\n"
     ]
    }
   ],
   "source": [
    "# 1\n",
    "w_opt_g = optimizer.GD(function=p1f, w=w, others=[x, y], r=0.01, lr=1e-3)\n",
    "print(w_opt_g)\n",
    "history_g = [optimizer.param_history, optimizer.func_history]"
   ]
  },
  {
   "cell_type": "code",
   "execution_count": 9,
   "metadata": {},
   "outputs": [
    {
     "name": "stdout",
     "output_type": "stream",
     "text": [
      "[ 4.25888853 -1.97731083 -0.17749302 -0.28179864]\n"
     ]
    }
   ],
   "source": [
    "# 2\n",
    "w_opt_n = optimizer.Newton(function=p1f, w=w, others=[x, y], r=0.01)\n",
    "print(w_opt_n)\n",
    "history_n = [optimizer.param_history, optimizer.func_history]"
   ]
  },
  {
   "cell_type": "code",
   "execution_count": 10,
   "metadata": {},
   "outputs": [
    {
     "data": {
      "image/png": "[encoded data removed]",
      "text/plain": [
       "<Figure size 432x288 with 1 Axes>"
      ]
     },
     "metadata": {
      "needs_background": "light"
     },
     "output_type": "display_data"
    },
    {
     "data": {
      "image/png": "[encoded data removed]",
      "text/plain": [
       "<Figure size 432x288 with 1 Axes>"
      ]
     },
     "metadata": {
      "needs_background": "light"
     },
     "output_type": "display_data"
    }
   ],
   "source": [
    "plot_result(w_opt_g, history_g, 'GD loss history')\n",
    "plot_result(w_opt_n, history_n, 'Newton loss history')"
   ]
  },
  {
   "cell_type": "code",
   "execution_count": 11,
   "metadata": {},
   "outputs": [
    {
     "name": "stdout",
     "output_type": "stream",
     "text": [
      "GD     :  54.736116156132965\n",
      "Newton :  54.68890021609997\n"
     ]
    }
   ],
   "source": [
    "f_g = p1f.f(w_opt_g, [x,y])\n",
    "f_n = p1f.f(w_opt_n, [x,y])\n",
    "print('GD     : ', f_g)\n",
    "print('Newton : ', f_n)"
   ]
  },
  {
   "cell_type": "code",
   "execution_count": 23,
   "metadata": {},
   "outputs": [
    {
     "data": {
      "image/png": "[encoded data removed]",
      "text/plain": [
       "<Figure size 1152x432 with 2 Axes>"
      ]
     },
     "metadata": {
      "needs_background": "light"
     },
     "output_type": "display_data"
    }
   ],
   "source": [
    "#3\n",
    "ws = [w_opt_g, w_opt_n]\n",
    "histories = [history_g, history_n]\n",
    "titles = ['Difference between t-th GD output and optimal', 'Difference between t-th Newton output and optimal']\n",
    "sizes = [16, 6]\n",
    "plot_performance(ws, histories, titles, f_n, sizes)"
   ]
  },
  {
   "cell_type": "code",
   "execution_count": null,
   "metadata": {},
   "outputs": [],
   "source": []
  }
 ],
 "metadata": {
  "kernelspec": {
   "display_name": "Python 3.10.4 64-bit ('3.10.4')",
   "language": "python",
   "name": "python3"
  },
  "language_info": {
   "codemirror_mode": {
    "name": "ipython",
    "version": 3
   },
   "file_extension": ".py",
   "mimetype": "text/x-python",
   "name": "python",
   "nbconvert_exporter": "python",
   "pygments_lexer": "ipython3",
   "version": "3.10.4"
  },
  "orig_nbformat": 4,
  "vscode": {
   "interpreter": {
    "hash": "d60ce609df19178bb8db49e98e4853805751f2b9ebffab48050494738995fad9"
   }
  }
 },
 "nbformat": 4,
 "nbformat_minor": 2
}
