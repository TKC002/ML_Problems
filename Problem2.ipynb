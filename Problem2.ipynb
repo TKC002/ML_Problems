{
 "cells": [
  {
   "cell_type": "code",
   "execution_count": 1,
   "metadata": {},
   "outputs": [],
   "source": [
    "import numpy as np\n",
    "import matplotlib.pyplot as plt"
   ]
  },
  {
   "cell_type": "code",
   "execution_count": 2,
   "metadata": {},
   "outputs": [],
   "source": [
    "class Function():\n",
    "    # x : numpy.ndarray\n",
    "    h = 1e-4\n",
    "    def __init__(self):\n",
    "        return\n",
    "\n",
    "    def f(self, w, others):\n",
    "        # It must be overridden\n",
    "        # w : need grad\n",
    "        # others : do not need grad\n",
    "        return w\n",
    "\n",
    "    def grad(self, w, others):\n",
    "        # may be overridden if f' can be solved analytically\n",
    "        tmp = 0\n",
    "        grads = np.zeros_like(w, dtype=float)\n",
    "        for i in range(w.size):\n",
    "            tmp = w[i]\n",
    "            w[i] = tmp - self.h\n",
    "            fx1 = self.f(w, others)\n",
    "            w[i] = tmp + self.h\n",
    "            fx2 = self.f(w, others)\n",
    "            grads[i] = (fx2-fx1)/(2*self.h)\n",
    "            w[i] = tmp\n",
    "\n",
    "        return grads\n",
    "\n",
    "    def hessian(self, w, others):\n",
    "        tmp = 0\n",
    "        hessians = np.zeros([w.size, w.size], dtype=float)\n",
    "        for i in range(w.size):\n",
    "            tmp = w[i]\n",
    "            w[i] = tmp - self.h\n",
    "            grads1 = self.grad(w, others)\n",
    "            w[i] = tmp + self.h\n",
    "            grads2 = self.grad(w, others)\n",
    "            hessians[:, i] = (grads2-grads1)/(2*self.h)\n",
    "            w[i] = tmp\n",
    "\n",
    "        return hessians"
   ]
  },
  {
   "cell_type": "code",
   "execution_count": 3,
   "metadata": {},
   "outputs": [],
   "source": [
    "class Optimizer():\n",
    "    def __init__(self, max_step):\n",
    "        self.param_history = []\n",
    "        self.func_history = []\n",
    "        self.max_step = max_step\n",
    "    \n",
    "    def clear(self):\n",
    "        self.param_history = []\n",
    "        self.func_history = []\n",
    "\n",
    "    def PG(self, function, w, others, r):\n",
    "        # PG : proximal gradient method\n",
    "        # function : Function\n",
    "        # r : stop condition\n",
    "        self.clear()\n",
    "        tmp = np.copy(w)\n",
    "        self.param_history.append(tmp)\n",
    "        self.func_history.append(function.f(tmp, others))\n",
    "        count = 0\n",
    "        while count <= self.max_step:\n",
    "            grads = function.grad(tmp, others)\n",
    "            tmp = tmp - function.eta*grads\n",
    "            tmp = soft_threshold(others[0]*function.eta, tmp)\n",
    "            self.param_history.append(tmp)\n",
    "            self.func_history.append(function.f(tmp, others))\n",
    "            if np.linalg.norm(grads, ord=2) < r:\n",
    "                break\n",
    "            count +=1\n",
    "        return tmp\n",
    "            "
   ]
  },
  {
   "cell_type": "code",
   "execution_count": 4,
   "metadata": {},
   "outputs": [],
   "source": [
    "class P2F(Function):\n",
    "    def __init__(self, A, mu):\n",
    "        self.A = A\n",
    "        self.mu = mu\n",
    "        w, _ = np.linalg.eig(2*A)\n",
    "        self.eta = 1/w.max()\n",
    "        return\n",
    "\n",
    "    def f(self, w, others):\n",
    "        lamb = others[0]\n",
    "        return np.dot(np.dot((w-self.mu).T, self.A), (w-self.mu)) + lamb * np.linalg.norm(w, ord=1)\n",
    "\n",
    "    def grad(self, w, others):\n",
    "        return 2*np.dot(self.A, (w-self.mu))\n"
   ]
  },
  {
   "cell_type": "code",
   "execution_count": 9,
   "metadata": {},
   "outputs": [],
   "source": [
    "def soft_threshold(t, x):\n",
    "    # x : np.ndarray\n",
    "    res = np.zeros_like(x)\n",
    "    for i in range(x.size):\n",
    "        if x[i] >= t:\n",
    "            res[i] = x[i]-t\n",
    "        elif x[i] <= -t:\n",
    "            res[i] = x[i]+t\n",
    "        else:\n",
    "            res[i] =  0\n",
    "\n",
    "    return res\n",
    "\n",
    "def plot_result(histories, title, lambdas):\n",
    "    # histories : [[param_history, func_history], [param_history, func_history], ...]\n",
    "    fig,ax = plt.subplots()\n",
    "    for i in range(len(lambdas)):\n",
    "        ax.plot(list(range(len(histories[i][1]))), histories[i][1], label=('lambda = '+str(lambdas[i])))\n",
    "    ax.set_title(title)\n",
    "    ax.legend()\n",
    "    plt.show()"
   ]
  },
  {
   "cell_type": "code",
   "execution_count": 6,
   "metadata": {},
   "outputs": [],
   "source": [
    "A = np.array([[3, 0.5], [0.5, 1]])\n",
    "mu = np.array([1, 2])\n",
    "lambdas = [2, 4, 6]\n",
    "np.random.seed(0)\n",
    "w = np.random.rand(2)"
   ]
  },
  {
   "cell_type": "code",
   "execution_count": 7,
   "metadata": {},
   "outputs": [],
   "source": [
    "p2f = P2F(A, mu)\n",
    "opt = Optimizer(1024)"
   ]
  },
  {
   "cell_type": "code",
   "execution_count": 8,
   "metadata": {},
   "outputs": [],
   "source": [
    "histories = []\n",
    "w_opts = []\n",
    "for l in lambdas:\n",
    "    w_opt = opt.PG(p2f, w, [l], 0.01)\n",
    "    histories.append([opt.param_history, opt.func_history])\n",
    "    w_opts.append(w_opt)"
   ]
  },
  {
   "cell_type": "code",
   "execution_count": 11,
   "metadata": {},
   "outputs": [
    {
     "data": {
      "image/png": "[encoded data removed]",
      "text/plain": [
       "<Figure size 432x288 with 1 Axes>"
      ]
     },
     "metadata": {
      "needs_background": "light"
     },
     "output_type": "display_data"
    }
   ],
   "source": [
    "plot_result(histories, 'PG result', lambdas) "
   ]
  },
  {
   "cell_type": "code",
   "execution_count": 13,
   "metadata": {},
   "outputs": [
    {
     "name": "stdout",
     "output_type": "stream",
     "text": [
      "[array([0.81818182, 1.09090909]), array([0.63636364, 0.18181818]), array([0.33333333, 0.        ])]\n"
     ]
    }
   ],
   "source": [
    "print(w_opts)"
   ]
  }
 ],
 "metadata": {
  "kernelspec": {
   "display_name": "Python 3.10.5 ('env': venv)",
   "language": "python",
   "name": "python3"
  },
  "language_info": {
   "codemirror_mode": {
    "name": "ipython",
    "version": 3
   },
   "file_extension": ".py",
   "mimetype": "text/x-python",
   "name": "python",
   "nbconvert_exporter": "python",
   "pygments_lexer": "ipython3",
   "version": "3.10.5"
  },
  "orig_nbformat": 4,
  "vscode": {
   "interpreter": {
    "hash": "09f6ee65820b5b0c7f624b54d710746cb7c18151992dbd5256271e62ea3c5a23"
   }
  }
 },
 "nbformat": 4,
 "nbformat_minor": 2
}
