{
 "cells": [
  {
   "cell_type": "code",
   "execution_count": 1,
   "metadata": {},
   "outputs": [],
   "source": [
    "import numpy as np\n",
    "import matplotlib.pyplot as plt"
   ]
  },
  {
   "cell_type": "code",
   "execution_count": 2,
   "metadata": {},
   "outputs": [],
   "source": [
    "class Function():\n",
    "    # x : numpy.ndarray\n",
    "    h = 1e-4\n",
    "    def __init__(self):\n",
    "        return\n",
    "\n",
    "    def f(self, w, others):\n",
    "        # It must be overridden\n",
    "        # w : need grad\n",
    "        # others : do not need grad\n",
    "        return w\n",
    "\n",
    "    def grad(self, w, others):\n",
    "        # may be overridden if f' can be solved analytically\n",
    "        tmp = 0\n",
    "        grads = np.zeros_like(w, dtype=float)\n",
    "        for i in range(w.size):\n",
    "            tmp = w[i]\n",
    "            w[i] = tmp - self.h\n",
    "            fx1 = self.f(w, others)\n",
    "            w[i] = tmp + self.h\n",
    "            fx2 = self.f(w, others)\n",
    "            grads[i] = (fx2-fx1)/(2*self.h)\n",
    "            w[i] = tmp\n",
    "\n",
    "        return grads\n",
    "\n",
    "    def hessian(self, w, others):\n",
    "        tmp = 0\n",
    "        hessians = np.zeros([w.size, w.size], dtype=float)\n",
    "        for i in range(w.size):\n",
    "            tmp = w[i]\n",
    "            w[i] = tmp - self.h\n",
    "            grads1 = self.grad(w, others)\n",
    "            w[i] = tmp + self.h\n",
    "            grads2 = self.grad(w, others)\n",
    "            hessians[:, i] = (grads2-grads1)/(2*self.h)\n",
    "            w[i] = tmp\n",
    "\n",
    "        return hessians"
   ]
  },
  {
   "cell_type": "code",
   "execution_count": 3,
   "metadata": {},
   "outputs": [],
   "source": [
    "class P3F(Function):\n",
    "    def __init__(self, lamb, xs, ys, n, d):\n",
    "        # n : number of dataset\n",
    "        # d : data dimension\n",
    "        K = np.zeros([n, n])\n",
    "        for i in range(n):\n",
    "            for j in range(n):\n",
    "                K[i][j] = ys[i]*ys[j]*np.dot(xs[i], xs[j])\n",
    "\n",
    "        self.K = K\n",
    "        self.xs = xs\n",
    "        self.ys = ys\n",
    "        self.lamb = lamb\n",
    "        self.n = n\n",
    "        self.d = d\n",
    "        # Lipschitz constant\n",
    "        e, _ = np.linalg.eigh(K/(2*lamb))\n",
    "        self.eta = 1/e.max()\n",
    "        return\n",
    "\n",
    "    def f(self, alpha, others):\n",
    "        # do not use others\n",
    "        w = np.zeros(self.d)\n",
    "        for i in range(self.n):\n",
    "            w += alpha[i]*self.ys[i]*self.xs[i]\n",
    "        w /= (2*self.lamb)\n",
    "\n",
    "        res = 0\n",
    "        for i in range(self.n):\n",
    "            res += max(0, 1-self.ys[i]*np.dot(w, self.xs[i]))\n",
    "        \n",
    "        return res\n",
    "    \n",
    "    def f_neg_dual(self, alpha, others):\n",
    "        # do not use others\n",
    "        return np.dot(np.dot(alpha, self.K), alpha) + sum(alpha)\n",
    "\n",
    "    def f_dual(self, alpha, others):\n",
    "        return - self.f_neg_dual(alpha, others)\n",
    "\n",
    "    def grad_neg_dual(self, alpha, others):\n",
    "        return 2*np.dot(self.K, alpha)-1"
   ]
  },
  {
   "cell_type": "code",
   "execution_count": 4,
   "metadata": {},
   "outputs": [],
   "source": [
    "class Optimizer():\n",
    "    def __init__(self, max_step):\n",
    "        self.param_history = []\n",
    "        self.func_history = []\n",
    "        self.func_history_dual = []\n",
    "        self.func_history_neg_dual = []\n",
    "        self.max_step = max_step\n",
    "    \n",
    "    def clear(self):\n",
    "        self.param_history = []\n",
    "        self.func_history = []\n",
    "        self.func_history_dual = []\n",
    "        self.func_history_neg_dual = []\n",
    "\n",
    "    def PG(self, function, alpha, others, r, ran):\n",
    "        # PG : projection gradient method\n",
    "        # function : Function\n",
    "        # r : stop condition\n",
    "        # others : only lambda\n",
    "        self.clear()\n",
    "        tmp = np.copy(alpha)\n",
    "        self.param_history.append(tmp)\n",
    "        self.func_history.append(function.f(tmp, others))\n",
    "        self.func_history_dual.append(function.f_dual(alpha, others))\n",
    "        self.func_history_neg_dual.append(function.f_neg_dual(alpha, others))\n",
    "        count = 0\n",
    "        while count <= self.max_step:\n",
    "            grads_neg_dual = function.grad_neg_dual(tmp, others)\n",
    "            tmp = tmp - function.eta*grads_neg_dual\n",
    "            tmp = limit(tmp, ran)\n",
    "                \n",
    "            tmp = soft_threshold(others[0]*function.eta, tmp)\n",
    "            self.param_history.append(tmp)\n",
    "            self.func_history.append(function.f(tmp, others))\n",
    "            self.func_history_dual.append(function.f_dual(tmp, others))\n",
    "            self.func_history_neg_dual.append(function.f_neg_dual(tmp, others))\n",
    "            \n",
    "            if np.linalg.norm(grads_neg_dual, ord=2) < r:\n",
    "                break\n",
    "            count +=1\n",
    "        return tmp"
   ]
  },
  {
   "cell_type": "code",
   "execution_count": 11,
   "metadata": {},
   "outputs": [],
   "source": [
    "def soft_threshold(t, x):\n",
    "    # x : np.ndarray\n",
    "    res = np.zeros_like(x)\n",
    "    for i in range(x.size):\n",
    "        if x[i] >= t:\n",
    "            res[i] = x[i]-t\n",
    "        elif x[i] <= -t:\n",
    "            res[i] = x[i]+t\n",
    "        else:\n",
    "            res[i] =  0\n",
    "\n",
    "    return res\n",
    "\n",
    "def limit(alpha, ran):\n",
    "    for i in range(len(alpha)):\n",
    "        if alpha[i] < ran[0]:\n",
    "            alpha[i] = ran[0]\n",
    "        elif alpha[i] > ran[1]:\n",
    "            alpha[i] = ran[1]\n",
    "    return alpha\n",
    "\n",
    "def plot_result(histories, title, labels):\n",
    "    # histories : [param_history, func_history, func_neg_dual_history]\n",
    "    fig,ax = plt.subplots()\n",
    "    for i in range(1, len(histories)):\n",
    "        ax.plot(list(range(len(histories[i]))), histories[i], label=labels[i])\n",
    "\n",
    "    ax.set_title(title)\n",
    "    ax.legend()\n",
    "    plt.show()\n",
    "\n",
    "def binary_acc(xs, ys, alpha, lamb):\n",
    "    acc_count = 0\n",
    "    w = np.zeros(len(xs[0]))\n",
    "    for i in range(len(xs)):\n",
    "        w += alpha[i]*ys[i]*xs[i]\n",
    "    w /= (2*lamb)\n",
    "    for x, y in zip(xs, ys):\n",
    "        if np.dot(w, x) > 0:\n",
    "            pred = 1\n",
    "        else:\n",
    "            pred = -1\n",
    "        \n",
    "        if pred==y:\n",
    "            acc_count +=1\n",
    "\n",
    "    return acc_count / len(ys)"
   ]
  },
  {
   "cell_type": "code",
   "execution_count": 31,
   "metadata": {},
   "outputs": [],
   "source": [
    "# making dataset IV\n",
    "np.random.seed(0)\n",
    "n = 200\n",
    "#[[x0], [x1], [x2], ...]\n",
    "x = 3*(np.random.rand(n,4)-0.5)\n",
    "y = (2*x[:, 0] - x[:, 1] + 0.5 + 0.5*np.random.randn(n)) > 0\n",
    "y = 2*y-1\n",
    "lamb = 0.01\n",
    "\n",
    "np.random.seed(100)\n",
    "alpha = np.random.rand(n)"
   ]
  },
  {
   "cell_type": "code",
   "execution_count": 32,
   "metadata": {},
   "outputs": [],
   "source": [
    "p3f = P3F(lamb, x, y, n, 4)\n",
    "opt = Optimizer(2048)\n",
    "histories = []\n",
    "\n",
    "alpha_opt = opt.PG(function=p3f, alpha=alpha, others=[lamb], r=0.01, ran=[0, 1])\n",
    "histories = [opt.param_history, opt.func_history, opt.func_history_neg_dual, opt.func_history_dual]"
   ]
  },
  {
   "cell_type": "code",
   "execution_count": 33,
   "metadata": {},
   "outputs": [
    {
     "data": {
      "image/png": "[encoded data removed]",
      "text/plain": [
       "<Figure size 432x288 with 1 Axes>"
      ]
     },
     "metadata": {
      "needs_background": "light"
     },
     "output_type": "display_data"
    }
   ],
   "source": [
    "plot_result(histories, 'GD loss history', ['', 'hinge loss', 'Neg Dual', 'Dual'])"
   ]
  },
  {
   "cell_type": "code",
   "execution_count": 34,
   "metadata": {},
   "outputs": [
    {
     "name": "stdout",
     "output_type": "stream",
     "text": [
      "accuracy\n",
      "before training :  0.825\n",
      "PG :  0.86\n"
     ]
    }
   ],
   "source": [
    "print('accuracy')\n",
    "print('before training : ', binary_acc(x, y, alpha, 0.01))\n",
    "print('PG : ', binary_acc(x, y, alpha_opt, 0.01))"
   ]
  }
 ],
 "metadata": {
  "kernelspec": {
   "display_name": "Python 3.10.5 ('env': venv)",
   "language": "python",
   "name": "python3"
  },
  "language_info": {
   "codemirror_mode": {
    "name": "ipython",
    "version": 3
   },
   "file_extension": ".py",
   "mimetype": "text/x-python",
   "name": "python",
   "nbconvert_exporter": "python",
   "pygments_lexer": "ipython3",
   "version": "3.10.5"
  },
  "orig_nbformat": 4,
  "vscode": {
   "interpreter": {
    "hash": "09f6ee65820b5b0c7f624b54d710746cb7c18151992dbd5256271e62ea3c5a23"
   }
  }
 },
 "nbformat": 4,
 "nbformat_minor": 2
}
